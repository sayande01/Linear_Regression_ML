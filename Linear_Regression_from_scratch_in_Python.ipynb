{
 "cells": [
  {
   "cell_type": "markdown",
   "id": "abfe05cb-d56f-4c3f-bee5-629469910b85",
   "metadata": {},
   "source": [
    "# Linear Regression"
   ]
  },
  {
   "cell_type": "markdown",
   "id": "e454926d-9feb-4fb4-90cb-e6dd1f53b110",
   "metadata": {},
   "source": [
    "Y = wX + b\n",
    "\n",
    "Y --> Dependent Variable\n",
    "\n",
    "X --> Independent Variable\n",
    "\n",
    "w --> weight\n",
    "\n",
    "b --> bias"
   ]
  },
  {
   "cell_type": "markdown",
   "id": "17ebfe20-0538-4466-8ca7-df1905839830",
   "metadata": {},
   "source": [
    "### Gradient Descent:"
   ]
  },
  {
   "cell_type": "markdown",
   "id": "7069d488-1eab-4a5d-8738-5dc0f25b1d2f",
   "metadata": {},
   "source": [
    "Gradient Descent is an optimization algorithm used for minimizing the loss function in various machine learning algorithms. It is used for updating the parameters of the learning model.\n",
    "\n",
    "w = w - α*dw\n",
    "\n",
    "b = b - α*db"
   ]
  },
  {
   "cell_type": "markdown",
   "id": "0c90e352-83a2-4ea0-8e6b-eb87f6c7359b",
   "metadata": {},
   "source": [
    "### Learning Rate:\n",
    "\n",
    "Learning rate is a tuning parameter in an optimization algorithm that determines the step size at each iteration while moving toward a minimum of a loss function."
   ]
  },
  {
   "attachments": {
    "c1af6484-eaff-4f03-bae4-35fa6389389e.PNG": {
     "image/png": "[encoded data removed]"
    }
   },
   "cell_type": "markdown",
   "id": "7cd49c28-984e-487d-9229-9f903291242d",
   "metadata": {},
   "source": [
    "![partial derivative of loss funcn.PNG](attachment:c1af6484-eaff-4f03-bae4-35fa6389389e.PNG)"
   ]
  },
  {
   "cell_type": "code",
   "execution_count": 1,
   "id": "6690b21d-25be-4e63-a67e-00809e341499",
   "metadata": {},
   "outputs": [],
   "source": [
    "# importing numpy library\n",
    "import numpy as np"
   ]
  },
  {
   "cell_type": "markdown",
   "id": "5d742a01-7fdf-4119-aaf7-fa909ef9546b",
   "metadata": {},
   "source": [
    "## Linear Regression"
   ]
  },
  {
   "cell_type": "code",
   "execution_count": 3,
   "id": "1c9f48b8-258e-426e-ac19-ca686f1e22c8",
   "metadata": {},
   "outputs": [],
   "source": [
    "class Linear_Regression():\n",
    "\n",
    "   def __init__( self, learning_rate, no_of_iterations ) :\n",
    "          \n",
    "        self.learning_rate = learning_rate\n",
    "          \n",
    "        self.no_of_iterations = no_of_iterations\n",
    "\n",
    "    # fit function to train the model\n",
    "\n",
    "   def fit( self, X, Y ) :\n",
    "          \n",
    "        # no_of_training_examples, no_of_features\n",
    "          \n",
    "        self.m, self.n = X.shape\n",
    "          \n",
    "        # initiating the weight and bias\n",
    "          \n",
    "        self.w = np.zeros( self.n )\n",
    "          \n",
    "        self.b = 0\n",
    "          \n",
    "        self.X = X\n",
    "          \n",
    "        self.Y = Y\n",
    "\n",
    "\n",
    "        # implementing Gradient Descent for Optimization\n",
    "                  \n",
    "        for i in range( self.no_of_iterations ) :\n",
    "              \n",
    "            self.update_weights()\n",
    "              \n",
    "        \n",
    "      \n",
    "    # function to update weights in gradient descent\n",
    "      \n",
    "   def update_weights( self ) :\n",
    "             \n",
    "        Y_prediction = self.predict( self.X )\n",
    "          \n",
    "        # calculate gradients  \n",
    "      \n",
    "        dw = - ( 2 * ( self.X.T ).dot( self.Y - Y_prediction )  ) / self.m\n",
    "       \n",
    "        db = - 2 * np.sum( self.Y - Y_prediction ) / self.m \n",
    "          \n",
    "        # updating the weights\n",
    "      \n",
    "        self.w = self.w - self.learning_rate * dw\n",
    "      \n",
    "        self.b = self.b - self.learning_rate * db\n",
    "          \n",
    "      \n",
    "    # Line function for prediction:\n",
    "      \n",
    "   def predict( self, X ) :\n",
    "      \n",
    "        return X.dot( self.w ) + self.b\n"
   ]
  },
  {
   "cell_type": "markdown",
   "id": "e76d4536-841b-4d3f-95a2-707d98eb0502",
   "metadata": {},
   "source": [
    "### Work flow of the Linear Regression Model :\n",
    "\n",
    "Step1: Set Learning rate and Number of Iteration; Initiate randow weight and Bias value\n",
    "\n",
    "Step2: build linear regression equation(y = wx +b)\n",
    "\n",
    "Step3: Find the \"y pred\" value for given x value for the corresponding weight and bias\n",
    "\n",
    "Step4 : Check the Loss function for these parameter values(difference btween \"y pred\" and \"true y\")\n",
    "\n",
    "Step5: Update the parameter values using Gradient descent(New weight and bias value)\n",
    "\n",
    "Step6: Step3,4,5 arae repeated till we get minimum loss function\n",
    "\n",
    "Finally we will get the best model(best weight and bias value)as it has the minimum loss function \n"
   ]
  },
  {
   "cell_type": "markdown",
   "id": "7b9a05b9-d693-4cb3-9d64-8282a6b4af9a",
   "metadata": {},
   "source": [
    "### Using Linear Regression model for Prediction"
   ]
  },
  {
   "cell_type": "code",
   "execution_count": 4,
   "id": "74761d11-0d71-47c0-b6e8-f871086d62c3",
   "metadata": {},
   "outputs": [],
   "source": [
    "# importing the dependencies\n",
    "import pandas as pd\n",
    "from sklearn.model_selection import train_test_split\n",
    "import matplotlib.pyplot as plt"
   ]
  },
  {
   "cell_type": "markdown",
   "id": "b216c52d-cf13-4f91-8dfc-b9b37cde9b38",
   "metadata": {},
   "source": [
    "### Data Pre-Processing"
   ]
  },
  {
   "cell_type": "code",
   "execution_count": 6,
   "id": "13f4ddc4-e1f8-444a-a5c7-28dce8769606",
   "metadata": {},
   "outputs": [],
   "source": [
    "# loading the data from csv file to a pandas dataframe\n",
    "salary_data = pd.read_csv('salary_data.csv')"
   ]
  },
  {
   "cell_type": "code",
   "execution_count": 7,
   "id": "320fd507-c57c-4aab-b1c0-435350ed7631",
   "metadata": {},
   "outputs": [
    {
     "data": {
      "text/html": [
       "<div>\n",
       "<style scoped>\n",
       "    .dataframe tbody tr th:only-of-type {\n",
       "        vertical-align: middle;\n",
       "    }\n",
       "\n",
       "    .dataframe tbody tr th {\n",
       "        vertical-align: top;\n",
       "    }\n",
       "\n",
       "    .dataframe thead th {\n",
       "        text-align: right;\n",
       "    }\n",
       "</style>\n",
       "<table border=\"1\" class=\"dataframe\">\n",
       "  <thead>\n",
       "    <tr style=\"text-align: right;\">\n",
       "      <th></th>\n",
       "      <th>YearsExperience</th>\n",
       "      <th>Salary</th>\n",
       "    </tr>\n",
       "  </thead>\n",
       "  <tbody>\n",
       "    <tr>\n",
       "      <th>0</th>\n",
       "      <td>1.1</td>\n",
       "      <td>39343</td>\n",
       "    </tr>\n",
       "    <tr>\n",
       "      <th>1</th>\n",
       "      <td>1.3</td>\n",
       "      <td>46205</td>\n",
       "    </tr>\n",
       "    <tr>\n",
       "      <th>2</th>\n",
       "      <td>1.5</td>\n",
       "      <td>37731</td>\n",
       "    </tr>\n",
       "    <tr>\n",
       "      <th>3</th>\n",
       "      <td>2.0</td>\n",
       "      <td>43525</td>\n",
       "    </tr>\n",
       "    <tr>\n",
       "      <th>4</th>\n",
       "      <td>2.2</td>\n",
       "      <td>39891</td>\n",
       "    </tr>\n",
       "  </tbody>\n",
       "</table>\n",
       "</div>"
      ],
      "text/plain": [
       "   YearsExperience  Salary\n",
       "0              1.1   39343\n",
       "1              1.3   46205\n",
       "2              1.5   37731\n",
       "3              2.0   43525\n",
       "4              2.2   39891"
      ]
     },
     "execution_count": 7,
     "metadata": {},
     "output_type": "execute_result"
    }
   ],
   "source": [
    "# printing the first 5 columns of the dataframe\n",
    "salary_data.head()"
   ]
  },
  {
   "cell_type": "code",
   "execution_count": 8,
   "id": "282b21b7-c853-4f63-b381-aa7de288fbe8",
   "metadata": {},
   "outputs": [
    {
     "data": {
      "text/html": [
       "<div>\n",
       "<style scoped>\n",
       "    .dataframe tbody tr th:only-of-type {\n",
       "        vertical-align: middle;\n",
       "    }\n",
       "\n",
       "    .dataframe tbody tr th {\n",
       "        vertical-align: top;\n",
       "    }\n",
       "\n",
       "    .dataframe thead th {\n",
       "        text-align: right;\n",
       "    }\n",
       "</style>\n",
       "<table border=\"1\" class=\"dataframe\">\n",
       "  <thead>\n",
       "    <tr style=\"text-align: right;\">\n",
       "      <th></th>\n",
       "      <th>YearsExperience</th>\n",
       "      <th>Salary</th>\n",
       "    </tr>\n",
       "  </thead>\n",
       "  <tbody>\n",
       "    <tr>\n",
       "      <th>25</th>\n",
       "      <td>9.0</td>\n",
       "      <td>105582</td>\n",
       "    </tr>\n",
       "    <tr>\n",
       "      <th>26</th>\n",
       "      <td>9.5</td>\n",
       "      <td>116969</td>\n",
       "    </tr>\n",
       "    <tr>\n",
       "      <th>27</th>\n",
       "      <td>9.6</td>\n",
       "      <td>112635</td>\n",
       "    </tr>\n",
       "    <tr>\n",
       "      <th>28</th>\n",
       "      <td>10.3</td>\n",
       "      <td>122391</td>\n",
       "    </tr>\n",
       "    <tr>\n",
       "      <th>29</th>\n",
       "      <td>10.5</td>\n",
       "      <td>121872</td>\n",
       "    </tr>\n",
       "  </tbody>\n",
       "</table>\n",
       "</div>"
      ],
      "text/plain": [
       "    YearsExperience  Salary\n",
       "25              9.0  105582\n",
       "26              9.5  116969\n",
       "27              9.6  112635\n",
       "28             10.3  122391\n",
       "29             10.5  121872"
      ]
     },
     "execution_count": 8,
     "metadata": {},
     "output_type": "execute_result"
    }
   ],
   "source": [
    "# last 5 rows of the dataframe\n",
    "salary_data.tail()"
   ]
  },
  {
   "cell_type": "code",
   "execution_count": 9,
   "id": "4c4b9aeb-4c3e-4f64-b5d7-2b702c08076f",
   "metadata": {},
   "outputs": [
    {
     "data": {
      "text/plain": [
       "(30, 2)"
      ]
     },
     "execution_count": 9,
     "metadata": {},
     "output_type": "execute_result"
    }
   ],
   "source": [
    "# number of rows & columns in the dataframe\n",
    "salary_data.shape"
   ]
  },
  {
   "cell_type": "code",
   "execution_count": 10,
   "id": "29100477-27d0-49ce-b257-58f1b84f5f2e",
   "metadata": {},
   "outputs": [
    {
     "data": {
      "text/plain": [
       "YearsExperience    0\n",
       "Salary             0\n",
       "dtype: int64"
      ]
     },
     "execution_count": 10,
     "metadata": {},
     "output_type": "execute_result"
    }
   ],
   "source": [
    "# checking for missing values\n",
    "salary_data.isnull().sum()"
   ]
  },
  {
   "cell_type": "markdown",
   "id": "1a0f9fd8-13ed-43e8-ab91-8508c37b642d",
   "metadata": {},
   "source": [
    "### Splitting the feature & target"
   ]
  },
  {
   "cell_type": "code",
   "execution_count": 11,
   "id": "2f5f7309-5664-40ba-be89-241944936629",
   "metadata": {},
   "outputs": [],
   "source": [
    "X = salary_data.iloc[:,:-1].values      \n",
    "Y = salary_data.iloc[:,1].values"
   ]
  },
  {
   "cell_type": "code",
   "execution_count": 12,
   "id": "792ed3c8-e410-4d27-b5f6-585e7b4a54e8",
   "metadata": {},
   "outputs": [
    {
     "name": "stdout",
     "output_type": "stream",
     "text": [
      "[[ 1.1]\n",
      " [ 1.3]\n",
      " [ 1.5]\n",
      " [ 2. ]\n",
      " [ 2.2]\n",
      " [ 2.9]\n",
      " [ 3. ]\n",
      " [ 3.2]\n",
      " [ 3.2]\n",
      " [ 3.7]\n",
      " [ 3.9]\n",
      " [ 4. ]\n",
      " [ 4. ]\n",
      " [ 4.1]\n",
      " [ 4.5]\n",
      " [ 4.9]\n",
      " [ 5.1]\n",
      " [ 5.3]\n",
      " [ 5.9]\n",
      " [ 6. ]\n",
      " [ 6.8]\n",
      " [ 7.1]\n",
      " [ 7.9]\n",
      " [ 8.2]\n",
      " [ 8.7]\n",
      " [ 9. ]\n",
      " [ 9.5]\n",
      " [ 9.6]\n",
      " [10.3]\n",
      " [10.5]]\n"
     ]
    }
   ],
   "source": [
    "print(X)"
   ]
  },
  {
   "cell_type": "code",
   "execution_count": 14,
   "id": "12511f92-7b90-48e6-9ee2-5a40d7321c91",
   "metadata": {},
   "outputs": [
    {
     "name": "stdout",
     "output_type": "stream",
     "text": [
      "[ 39343  46205  37731  43525  39891  56642  60150  54445  64445  57189\n",
      "  63218  55794  56957  57081  61111  67938  66029  83088  81363  93940\n",
      "  91738  98273 101302 113812 109431 105582 116969 112635 122391 121872]\n"
     ]
    }
   ],
   "source": [
    "print(Y)"
   ]
  },
  {
   "cell_type": "markdown",
   "id": "df105ec7-7d22-413c-aebf-0dc1aaf043a8",
   "metadata": {},
   "source": [
    "### Splitting the dataset into training & test data"
   ]
  },
  {
   "cell_type": "code",
   "execution_count": 15,
   "id": "5da5959b-c748-4e49-a67e-232fd449be5a",
   "metadata": {},
   "outputs": [],
   "source": [
    "X_train, X_test, Y_train, Y_test = train_test_split(X, Y, test_size=0.33, random_state = 2)"
   ]
  },
  {
   "cell_type": "markdown",
   "id": "7646e3cf-860c-4ebc-b98b-93768a4e2d76",
   "metadata": {},
   "source": [
    "### Training the Linear Regression model"
   ]
  },
  {
   "cell_type": "code",
   "execution_count": 16,
   "id": "e7b8ab02-1430-4bf7-87a6-1e923bf1d75f",
   "metadata": {},
   "outputs": [],
   "source": [
    "model = Linear_Regression(learning_rate = 0.02, no_of_iterations=1000)"
   ]
  },
  {
   "cell_type": "code",
   "execution_count": 17,
   "id": "9db7f11b-94f6-4f68-b06b-60ff9de303c3",
   "metadata": {},
   "outputs": [],
   "source": [
    "model.fit(X_train, Y_train)"
   ]
  },
  {
   "cell_type": "code",
   "execution_count": 18,
   "id": "74e074af-c11e-4a66-a78e-b34d2f4fcae9",
   "metadata": {},
   "outputs": [
    {
     "name": "stdout",
     "output_type": "stream",
     "text": [
      "weight =  9514.400999035135\n",
      "bias =  23697.406507136307\n"
     ]
    }
   ],
   "source": [
    "# printing the parameter values ( weights & bias)\n",
    "\n",
    "print('weight = ', model.w[0])\n",
    "print('bias = ', model.b)"
   ]
  },
  {
   "cell_type": "markdown",
   "id": "8d5e0140-919e-4ee7-8e33-6a59f750b826",
   "metadata": {},
   "source": [
    "y = 9514(x) + 23697\n",
    "\n",
    "salary = 9514(experience) + 23697"
   ]
  },
  {
   "cell_type": "markdown",
   "id": "98f315c5-c1f7-4eff-8157-e03842140521",
   "metadata": {},
   "source": [
    "### Predict the salary value for test data"
   ]
  },
  {
   "cell_type": "code",
   "execution_count": 20,
   "id": "74d7f6ff-d339-4c07-834c-3fd3d214378f",
   "metadata": {},
   "outputs": [],
   "source": [
    "test_data_prediction = model.predict(X_test)"
   ]
  },
  {
   "cell_type": "code",
   "execution_count": 21,
   "id": "5792d837-53ec-4844-87a9-981d3dffd144",
   "metadata": {},
   "outputs": [
    {
     "name": "stdout",
     "output_type": "stream",
     "text": [
      "[ 36066.12780588  34163.24760607  66512.21100279  58900.69020357\n",
      "  91249.65360029  80783.81250135 101715.49469922  52240.60950424\n",
      "  42726.20850521  88395.33330058]\n"
     ]
    }
   ],
   "source": [
    "print(test_data_prediction)"
   ]
  },
  {
   "cell_type": "code",
   "execution_count": 24,
   "id": "402956ba-557a-4246-a3fb-c234cc2ed6c6",
   "metadata": {},
   "outputs": [
    {
     "name": "stdout",
     "output_type": "stream",
     "text": [
      "[[1.3]\n",
      " [1.1]\n",
      " [4.5]\n",
      " [3.7]\n",
      " [7.1]\n",
      " [6. ]\n",
      " [8.2]\n",
      " [3. ]\n",
      " [2. ]\n",
      " [6.8]]\n"
     ]
    }
   ],
   "source": [
    "print(X_test)"
   ]
  },
  {
   "cell_type": "code",
   "execution_count": 23,
   "id": "a7c9fa4f-fd56-4525-808d-ddadf62be5d5",
   "metadata": {},
   "outputs": [
    {
     "name": "stdout",
     "output_type": "stream",
     "text": [
      "[ 46205  39343  61111  57189  98273  93940 113812  60150  43525  91738]\n"
     ]
    }
   ],
   "source": [
    "print(Y_test)"
   ]
  },
  {
   "cell_type": "markdown",
   "id": "ef22730f-89a0-4bf9-bfc5-501ee81357c5",
   "metadata": {},
   "source": [
    "### Visualizing the predicted values & actual Values"
   ]
  },
  {
   "cell_type": "code",
   "execution_count": 22,
   "id": "fbb2de7f-7358-41cb-995c-f2b151cf87b4",
   "metadata": {},
   "outputs": [
    {
     "data": {
      "image/png": "[encoded data removed]",
      "text/plain": [
       "<Figure size 640x480 with 1 Axes>"
      ]
     },
     "metadata": {},
     "output_type": "display_data"
    }
   ],
   "source": [
    "plt.scatter(X_test, Y_test, color = 'red')\n",
    "plt.plot(X_test, test_data_prediction, color='blue')\n",
    "plt.xlabel(' Work Experience')\n",
    "plt.ylabel('Salary')\n",
    "plt.title(' Salary vs Experience')\n",
    "plt.show()"
   ]
  },
  {
   "cell_type": "code",
   "execution_count": null,
   "id": "a1122906-14c3-40e3-ba83-90d1517b5ad3",
   "metadata": {},
   "outputs": [],
   "source": []
  },
  {
   "cell_type": "code",
   "execution_count": null,
   "id": "9815b821-9663-4793-b2d3-e84213a78ab1",
   "metadata": {},
   "outputs": [],
   "source": []
  },
  {
   "cell_type": "code",
   "execution_count": null,
   "id": "0cff4984-445d-43a0-82e1-dd0a0cd4d117",
   "metadata": {},
   "outputs": [],
   "source": []
  },
  {
   "cell_type": "code",
   "execution_count": null,
   "id": "524e1421-69b5-4a14-b946-9c1be0145363",
   "metadata": {},
   "outputs": [],
   "source": []
  },
  {
   "cell_type": "code",
   "execution_count": null,
   "id": "bd0d3032-5721-43ec-8fe0-e953d92758a5",
   "metadata": {},
   "outputs": [],
   "source": []
  }
 ],
 "metadata": {
  "kernelspec": {
   "display_name": "Python 3 (ipykernel)",
   "language": "python",
   "name": "python3"
  },
  "language_info": {
   "codemirror_mode": {
    "name": "ipython",
    "version": 3
   },
   "file_extension": ".py",
   "mimetype": "text/x-python",
   "name": "python",
   "nbconvert_exporter": "python",
   "pygments_lexer": "ipython3",
   "version": "3.11.7"
  }
 },
 "nbformat": 4,
 "nbformat_minor": 5
}
